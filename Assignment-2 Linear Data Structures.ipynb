{
 "cells": [
  {
   "cell_type": "markdown",
   "id": "2a755615",
   "metadata": {},
   "source": [
    "### 1. Delete Elements in a Linked List Whose Sum is Equal to Zero:"
   ]
  },
  {
   "cell_type": "code",
   "execution_count": 20,
   "id": "003377bd",
   "metadata": {},
   "outputs": [
    {
     "name": "stdout",
     "output_type": "stream",
     "text": [
      "Original Linked List:\n",
      "1 -> 2 -> -3 -> 3 -> -2 -> None\n",
      "\n",
      "Linked List after deleting zero-sum sublists:\n",
      "3 -> -2 -> None\n"
     ]
    }
   ],
   "source": [
    "class Node:\n",
    "    def __init__(self, data):\n",
    "        self.data = data\n",
    "        self.next = None\n",
    "\n",
    "def delete_zero_sum_sublists(head):\n",
    "    dummy = Node(0)\n",
    "    dummy.next = head\n",
    "    current = dummy\n",
    "    prefix_sum = 0\n",
    "    sum_dict = {}\n",
    "\n",
    "    while current:\n",
    "        prefix_sum += current.data\n",
    "\n",
    "        if prefix_sum in sum_dict:\n",
    "            prev = sum_dict[prefix_sum].next\n",
    "            temp_sum = prefix_sum\n",
    "            while prev != current:\n",
    "                temp_sum += prev.data\n",
    "                del sum_dict[temp_sum]\n",
    "                prev = prev.next\n",
    "            sum_dict[prefix_sum].next = current.next\n",
    "        else:\n",
    "            sum_dict[prefix_sum] = current\n",
    "\n",
    "        current = current.next\n",
    "\n",
    "    return dummy.next\n",
    "\n",
    "def print_linked_list(head):\n",
    "    current = head\n",
    "    while current:\n",
    "        print(current.data, end=\" -> \")\n",
    "        current = current.next\n",
    "    print(\"None\")\n",
    "\n",
    "# Example usage:\n",
    "if __name__ == \"__main__\":\n",
    "    # Create a sample linked list: 1 -> 2 -> -3 -> 3 -> -2\n",
    "    head = Node(1)\n",
    "    head.next = Node(2)\n",
    "    head.next.next = Node(-3)\n",
    "    head.next.next.next = Node(3)\n",
    "    head.next.next.next.next = Node(-2)\n",
    "\n",
    "    print(\"Original Linked List:\")\n",
    "    print_linked_list(head)\n",
    "\n",
    "    new_head = delete_zero_sum_sublists(head)\n",
    "\n",
    "    print(\"\\nLinked List after deleting zero-sum sublists:\")\n",
    "    print_linked_list(new_head)\n"
   ]
  },
  {
   "cell_type": "markdown",
   "id": "b7c9f809",
   "metadata": {},
   "source": [
    "### 2. Reverse a linked list in groups of given size"
   ]
  },
  {
   "cell_type": "code",
   "execution_count": 21,
   "id": "486ab47b",
   "metadata": {},
   "outputs": [
    {
     "name": "stdout",
     "output_type": "stream",
     "text": [
      "Original Linked List:\n",
      "1 -> 2 -> 3 -> 4 -> 5 -> None\n",
      "\n",
      "Linked List after reversing in groups of 3\n",
      "3 -> 2 -> 1 -> 4 -> 5 -> None\n"
     ]
    }
   ],
   "source": [
    "class ListNode:\n",
    "    def __init__(self, val=0, next=None):\n",
    "        self.val = val\n",
    "        self.next = next\n",
    "\n",
    "def reverse_linked_list_in_groups(head, k):\n",
    "    if not head or k == 1:\n",
    "        return head\n",
    "\n",
    "    dummy = ListNode(-1)\n",
    "    dummy.next = head\n",
    "    prev_group_end = dummy\n",
    "    curr = head\n",
    "    length = 0\n",
    "\n",
    "    # Calculate the length of the linked list\n",
    "    while curr:\n",
    "        length += 1\n",
    "        curr = curr.next\n",
    "\n",
    "    while length >= k:\n",
    "        curr_group_start = prev_group_end.next\n",
    "        curr_group_end = curr_group_start\n",
    "        prev = None\n",
    "\n",
    "        # Reverse the current group of k nodes\n",
    "        for _ in range(k):\n",
    "            next_node = curr_group_end.next\n",
    "            curr_group_end.next = prev\n",
    "            prev = curr_group_end\n",
    "            curr_group_end = next_node\n",
    "\n",
    "        prev_group_end.next = prev  \n",
    "        curr_group_start.next = curr_group_end  \n",
    "\n",
    "        prev_group_end = curr_group_start \n",
    "        length -= k\n",
    "\n",
    "    return dummy.next\n",
    "\n",
    "def print_linked_list(head):\n",
    "    current = head\n",
    "    while current:\n",
    "        print(current.val, end=\" -> \")\n",
    "        current = current.next\n",
    "    print (\"None\")\n",
    "\n",
    "# Example usage:\n",
    "if __name__ == \"__main__\":\n",
    "    # Create a sample linked list: 1 -> 2 -> 3 -> 4 -> 5\n",
    "    head = ListNode(1)\n",
    "    head.next = ListNode(2)\n",
    "    head.next.next = ListNode(3)\n",
    "    head.next.next.next = ListNode(4)\n",
    "    head.next.next.next.next = ListNode(5)\n",
    "\n",
    "    print(\"Original Linked List:\")\n",
    "    print_linked_list(head)\n",
    "\n",
    "    k = 3  # Specify the group size\n",
    "    new_head = reverse_linked_list_in_groups(head, k)\n",
    "\n",
    "    print(\"\\nLinked List after reversing in groups of\", k)\n",
    "    print_linked_list(new_head)\n"
   ]
  },
  {
   "cell_type": "markdown",
   "id": "dfe66275",
   "metadata": {},
   "source": [
    "### 3. Merge a linked list into another linked list at alternate positions."
   ]
  },
  {
   "cell_type": "code",
   "execution_count": 9,
   "id": "bba42295",
   "metadata": {},
   "outputs": [
    {
     "name": "stdout",
     "output_type": "stream",
     "text": [
      "Linked List 1:\n",
      "1 -> 3 -> 5 -> None\n",
      "\n",
      "Linked List 2:\n",
      "2 -> 4 -> 6 -> None\n",
      "\n",
      "Linked List after merging at alternate positions:\n",
      "1 -> 2 -> 3 -> 4 -> 5 -> 6 -> None\n"
     ]
    }
   ],
   "source": [
    "class ListNode:\n",
    "    def __init__(self, val=0, next=None):\n",
    "        self.val = val\n",
    "        self.next = next\n",
    "\n",
    "def merge_alternate_positions(head1, head2):\n",
    "    if not head1:\n",
    "        return head2\n",
    "    if not head2:\n",
    "        return head1\n",
    "\n",
    "    current1 = head1\n",
    "    current2 = head2\n",
    "\n",
    "    while current1 and current2:\n",
    "        next1 = current1.next\n",
    "        next2 = current2.next\n",
    "\n",
    "        current1.next = current2\n",
    "        current2.next = next1\n",
    "\n",
    "        current1 = next1\n",
    "        current2 = next2\n",
    "\n",
    "    return head1\n",
    "\n",
    "def print_linked_list(head):\n",
    "    current = head\n",
    "    while current:\n",
    "        print(current.val, end=\" -> \")\n",
    "        current = current.next\n",
    "    print (\"None\")\n",
    "#Example usage:\n",
    "if __name__ == \"__main__\":\n",
    "    # Create two sample linked lists: 1 -> 3 -> 5 and 2 -> 4 -> 6\n",
    "    head1 = ListNode(1)\n",
    "    head1.next = ListNode(3)\n",
    "    head1.next.next = ListNode(5)\n",
    "\n",
    "    head2 = ListNode(2)\n",
    "    head2.next = ListNode(4)\n",
    "    head2.next.next = ListNode(6)\n",
    "\n",
    "    print(\"Linked List 1:\")\n",
    "    print_linked_list(head1)\n",
    "\n",
    "    print(\"\\nLinked List 2:\")\n",
    "    print_linked_list(head2)\n",
    "\n",
    "    merged_head = merge_alternate_positions(head1, head2)\n",
    "\n",
    "    print(\"\\nLinked List after merging at alternate positions:\")\n",
    "    print_linked_list(merged_head)\n"
   ]
  },
  {
   "cell_type": "markdown",
   "id": "7d3c5698",
   "metadata": {},
   "source": [
    "### 4. In an array, Count Pairs with given sum"
   ]
  },
  {
   "cell_type": "code",
   "execution_count": 10,
   "id": "a189634e",
   "metadata": {},
   "outputs": [
    {
     "name": "stdout",
     "output_type": "stream",
     "text": [
      "Number of pairs with sum 7: 3\n"
     ]
    }
   ],
   "source": [
    "def count_pairs_with_sum(arr, target_sum):\n",
    "    num_frequency = {}\n",
    "    count = 0\n",
    "\n",
    "    for num in arr:\n",
    "        complement = target_sum - num\n",
    "\n",
    "        if complement in num_frequency:\n",
    "            count += num_frequency[complement]\n",
    "\n",
    "        if num in num_frequency:\n",
    "            num_frequency[num] += 1\n",
    "        else:\n",
    "            num_frequency[num] = 1\n",
    "\n",
    "    return count\n",
    "\n",
    "# Example usage:\n",
    "arr = [1, 2, 3, 4, 5, 6]\n",
    "target_sum = 7\n",
    "result = count_pairs_with_sum(arr, target_sum)\n",
    "print(f\"Number of pairs with sum {target_sum}: {result}\")\n"
   ]
  },
  {
   "cell_type": "markdown",
   "id": "c32aaf46",
   "metadata": {},
   "source": [
    "### 5. Find duplicates in an array"
   ]
  },
  {
   "cell_type": "code",
   "execution_count": 11,
   "id": "e81df2ca",
   "metadata": {},
   "outputs": [
    {
     "name": "stdout",
     "output_type": "stream",
     "text": [
      "Duplicates: [3, 2, 8]\n"
     ]
    }
   ],
   "source": [
    "def find_duplicates(arr):\n",
    "    seen = set()\n",
    "    duplicates = []\n",
    "\n",
    "    for num in arr:\n",
    "        if num in seen:\n",
    "            duplicates.append(num)\n",
    "        else:\n",
    "            seen.add(num)\n",
    "\n",
    "    return duplicates\n",
    "\n",
    "arr = [1, 2, 3, 4, 3, 2, 7, 8, 8]\n",
    "duplicates = find_duplicates(arr)\n",
    "print(\"Duplicates:\", duplicates)\n"
   ]
  },
  {
   "cell_type": "markdown",
   "id": "17a136e9",
   "metadata": {},
   "source": [
    "### 6. Find the Kth largest and Kth smallest number in an array"
   ]
  },
  {
   "cell_type": "code",
   "execution_count": 14,
   "id": "0821930e",
   "metadata": {},
   "outputs": [
    {
     "name": "stdout",
     "output_type": "stream",
     "text": [
      "3th Smallest: 7\n",
      "3th Largest: 9\n"
     ]
    }
   ],
   "source": [
    "def kth_smallest_and_largest(arr, k):\n",
    "    if k <= 0 or k > len(arr):\n",
    "        return None  \n",
    "\n",
    "    # Sort the array in ascending order for Kth smallest\n",
    "    sorted_arr = sorted(arr)\n",
    "    kth_smallest = sorted_arr[k - 1]\n",
    "\n",
    "    # Sort the array in descending order for Kth largest\n",
    "    sorted_arr = sorted(arr, reverse=True)\n",
    "    kth_largest = sorted_arr[k - 1]\n",
    "\n",
    "    return kth_smallest, kth_largest\n",
    "\n",
    "# Example usage:\n",
    "arr = [12, 3, 1, 15, 9, 7]\n",
    "k = 3\n",
    "kth_smallest, kth_largest = kth_smallest_and_largest(arr, k)\n",
    "print(f\"{k}th Smallest: {kth_smallest}\")\n",
    "print(f\"{k}th Largest: {kth_largest}\")\n"
   ]
  },
  {
   "cell_type": "markdown",
   "id": "968c65dc",
   "metadata": {},
   "source": [
    "### 7. Move all the negative elements to one side of the array"
   ]
  },
  {
   "cell_type": "code",
   "execution_count": 15,
   "id": "4eccd1fe",
   "metadata": {},
   "outputs": [
    {
     "name": "stdout",
     "output_type": "stream",
     "text": [
      "Array with negatives moved to one side: [-12, -6, -13, -5, -3, -7, 5, 6, 11]\n"
     ]
    }
   ],
   "source": [
    "def move_negatives_to_one_side(arr):\n",
    "    left = 0\n",
    "    right = len(arr) - 1\n",
    "\n",
    "    while left <= right:\n",
    "        if arr[left] < 0 and arr[right] < 0:\n",
    "            left += 1\n",
    "        elif arr[left] >= 0 and arr[right] < 0:\n",
    "            arr[left], arr[right] = arr[right], arr[left]\n",
    "            left += 1\n",
    "            right -= 1\n",
    "        elif arr[left] >= 0 and arr[right] >= 0\n",
    "            right -= 1\n",
    "        else:\n",
    "            left += 1\n",
    "            right -= 1\n",
    "\n",
    "# Example usage:\n",
    "arr = [-12, 11, -13, -5, 6, -7, 5, -3, -6]\n",
    "move_negatives_to_one_side(arr)\n",
    "print(\"Array with negatives moved to one side:\", arr)\n"
   ]
  },
  {
   "cell_type": "markdown",
   "id": "5bfcfe58",
   "metadata": {},
   "source": [
    "### 8. Reverse a string using a stack data structure"
   ]
  },
  {
   "cell_type": "code",
   "execution_count": 16,
   "id": "6b7a0577",
   "metadata": {},
   "outputs": [
    {
     "name": "stdout",
     "output_type": "stream",
     "text": [
      "Original string: Hello, World!\n",
      "Reversed string: !dlroW ,olleH\n"
     ]
    }
   ],
   "source": [
    "def reverse_string(input_str):\n",
    "    stack = []\n",
    "    reversed_str = \"\"\n",
    "\n",
    "    for char in input_str:\n",
    "        stack.append(char)\n",
    "\n",
    "    while stack:\n",
    "        reversed_str += stack.pop()\n",
    "\n",
    "    return reversed_str\n",
    "\n",
    "# Example usage:\n",
    "input_str = \"Hello, World!\"\n",
    "reversed_str = reverse_string(input_str)\n",
    "print(\"Original string:\", input_str)\n",
    "print(\"Reversed string:\", reversed_str)\n"
   ]
  },
  {
   "cell_type": "markdown",
   "id": "57586ce0",
   "metadata": {},
   "source": [
    "### 9. Evaluate a postfix expression using stack"
   ]
  },
  {
   "cell_type": "code",
   "execution_count": 17,
   "id": "0d04a0fd",
   "metadata": {},
   "outputs": [
    {
     "name": "stdout",
     "output_type": "stream",
     "text": [
      "Result: 11.0\n"
     ]
    }
   ],
   "source": [
    "def evaluate_postfix(expression):\n",
    "    stack = []\n",
    "\n",
    "    for token in expression.split():\n",
    "        if token.isdigit():\n",
    "            stack.append(int(token))\n",
    "        else:\n",
    "            operand2 = stack.pop()\n",
    "            operand1 = stack.pop()\n",
    "\n",
    "            if token == \"+\":\n",
    "                result = operand1 + operand2\n",
    "            elif token == \"-\":\n",
    "                result = operand1 - operand2\n",
    "            elif token == \"*\":\n",
    "                result = operand1 * operand2\n",
    "            elif token == \"/\":\n",
    "                if operand2 == 0:\n",
    "                    raise ValueError(\"Division by zero is not allowed.\")\n",
    "                result = operand1 / operand2\n",
    "            else:\n",
    "                raise ValueError(\"Invalid operator: \" + token)\n",
    "\n",
    "            stack.append(result)\n",
    "\n",
    "    if len(stack) != 1:\n",
    "        raise ValueError(\"Invalid postfix expression\")\n",
    "\n",
    "    return stack[0]\n",
    "\n",
    "# Example usage:\n",
    "postfix_expression = \"3 4 * 2 / 5 +\"\n",
    "result = evaluate_postfix(postfix_expression)\n",
    "print(\"Result:\", result)\n"
   ]
  },
  {
   "cell_type": "markdown",
   "id": "0376c420",
   "metadata": {},
   "source": [
    "### 10. Implement a queue using the stack data structure"
   ]
  },
  {
   "cell_type": "code",
   "execution_count": 19,
   "id": "2a400aa7",
   "metadata": {},
   "outputs": [
    {
     "name": "stdout",
     "output_type": "stream",
     "text": [
      "Dequeue: 1\n",
      "Dequeue: 2\n",
      "Queue size: 3\n",
      "Is queue empty? False\n",
      "Dequeue: 3\n",
      "Dequeue: 4\n",
      "Dequeue: 5\n",
      "Is queue empty? True\n"
     ]
    }
   ],
   "source": [
    "class QueueUsingStacks:\n",
    "    def __init__(self):\n",
    "        self.input_stack = []\n",
    "        self.output_stack = []\n",
    "\n",
    "    def enqueue(self, item):\n",
    "        self.input_stack.append(item)\n",
    "\n",
    "    def dequeue(self):\n",
    "        if not self.output_stack:\n",
    "            if not self.input_stack:\n",
    "                raise IndexError(\"Queue is empty\")\n",
    "            while self.input_stack:\n",
    "                self.output_stack.append(self.input_stack.pop())\n",
    "\n",
    "        return self.output_stack.pop()\n",
    "\n",
    "    def is_empty(self):\n",
    "        return not self.input_stack and not self.output_stack\n",
    "\n",
    "    def size(self):\n",
    "        return len(self.input_stack) + len(self.output_stack)\n",
    "\n",
    "# Example usage:\n",
    "queue = QueueUsingStacks()\n",
    "\n",
    "queue.enqueue(1)\n",
    "queue.enqueue(2)\n",
    "queue.enqueue(3)\n",
    "\n",
    "print(\"Dequeue:\", queue.dequeue()) \n",
    "print(\"Dequeue:\", queue.dequeue()) \n",
    "\n",
    "queue.enqueue(4)\n",
    "queue.enqueue(5)\n",
    "\n",
    "print(\"Queue size:\", queue.size())  \n",
    "print(\"Is queue empty?\", queue.is_empty()) \n",
    "print(\"Dequeue:\", queue.dequeue())  \n",
    "print(\"Dequeue:\", queue.dequeue())  \n",
    "print(\"Dequeue:\", queue.dequeue()) \n",
    "\n",
    "print(\"Is queue empty?\", queue.is_empty()) \n"
   ]
  }
 ],
 "metadata": {
  "kernelspec": {
   "display_name": "Python 3 (ipykernel)",
   "language": "python",
   "name": "python3"
  },
  "language_info": {
   "codemirror_mode": {
    "name": "ipython",
    "version": 3
   },
   "file_extension": ".py",
   "mimetype": "text/x-python",
   "name": "python",
   "nbconvert_exporter": "python",
   "pygments_lexer": "ipython3",
   "version": "3.10.9"
  }
 },
 "nbformat": 4,
 "nbformat_minor": 5
}
